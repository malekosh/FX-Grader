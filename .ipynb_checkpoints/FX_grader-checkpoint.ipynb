{
 "cells": [
  {
   "cell_type": "code",
   "execution_count": null,
   "id": "medium-infection",
   "metadata": {
    "tags": []
   },
   "outputs": [],
   "source": [
    "import os\n",
    "import numpy as np\n",
    "import matplotlib as mpl\n",
    "from viewer import *\n",
    "from utils import *\n",
    "mpl.rcParams['savefig.pad_inches'] = 0\n",
    "#iterator\n",
    "it = 0"
   ]
  },
  {
   "cell_type": "code",
   "execution_count": null,
   "id": "regular-logan",
   "metadata": {},
   "outputs": [],
   "source": [
    "#rater's initials (for saving json files)\n",
    "rater = 'MH'\n",
    "#File excluded when result json is present\n",
    "ex = False\n",
    "#BIDS structured dataset path\n",
    "dataset_pth = '/path/to/dataset'\n",
    "#if set to true tries to load scores from the current rater (if they exist) else initial values are set to 0\n",
    "init = True\n",
    "\n",
    "paths = get_paths(dataset_pth,ex, rater)\n"
   ]
  },
  {
   "cell_type": "code",
   "execution_count": null,
   "id": "egyptian-pharmacology",
   "metadata": {},
   "outputs": [],
   "source": [
    "#path iterator\n",
    "#Run the following 2 cells to get the next image\n",
    "img_pth, msk_pth, ctd_pth = paths[it]\n",
    "save_pth = msk_pth.replace('_seg-vert_msk.nii.gz', '_fx-{}_res.json'.format(rater))\n",
    "img, ctd, drr, sag, cor, zms, size = process_data_snp(str(img_pth), msk_pth, ctd_pth)\n",
    "it +=1\n",
    "print('## Processing file {} out of {} : '.format(it,len(paths)), img_pth)"
   ]
  },
  {
   "cell_type": "code",
   "execution_count": null,
   "id": "serial-cruise",
   "metadata": {},
   "outputs": [],
   "source": [
    "viewer(img, sag, cor, zms, drr, ctd, save_pth, size, init).create_fig()"
   ]
  }
 ],
 "metadata": {
  "kernelspec": {
   "display_name": "Python 3",
   "language": "python",
   "name": "python3"
  },
  "language_info": {
   "codemirror_mode": {
    "name": "ipython",
    "version": 3
   },
   "file_extension": ".py",
   "mimetype": "text/x-python",
   "name": "python",
   "nbconvert_exporter": "python",
   "pygments_lexer": "ipython3",
   "version": "3.8.5"
  }
 },
 "nbformat": 4,
 "nbformat_minor": 5
}

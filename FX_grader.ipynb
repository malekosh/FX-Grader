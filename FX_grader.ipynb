{
 "cells": [
  {
   "cell_type": "code",
   "execution_count": null,
   "id": "committed-northwest",
   "metadata": {
    "tags": []
   },
   "outputs": [],
   "source": [
    "from pathlib import Path\n",
    "import matplotlib as mpl\n",
    "from viewer import *\n",
    "from utils import *\n",
    "mpl.rcParams['savefig.pad_inches'] = 0\n",
    "#iterator\n"
   ]
  },
  {
   "cell_type": "markdown",
   "id": "incomplete-situation",
   "metadata": {},
   "source": [
    "### Settings and Variables"
   ]
  },
  {
   "cell_type": "code",
   "execution_count": null,
   "id": "formed-burst",
   "metadata": {},
   "outputs": [],
   "source": [
    "it = 0\n",
    "#rater's initials (for saving json files)\n",
    "rater = 'MH'\n",
    "\n",
    "#File excluded if already graded\n",
    "ex = True\n",
    "\n",
    "#BIDS structured dataset path\n",
    "dataset_pth = Path.cwd().joinpath('sample_dataset')\n",
    "# dataset_pth = '/Path/to/dataset'\n",
    "\n",
    "#if a save_path is provided, json files will be saved in the given path. Otherwise results will be saved \n",
    "#in the derivatived folder (be careful with permission errors if you mount the NAS)\n",
    "save_path = ''\n",
    "#if set to true tries to load scores from the current rater (if they exist) else initial values are set to 0\n",
    "init = True\n",
    "\n",
    "paths = get_paths(dataset_pth,ex, rater)\n"
   ]
  },
  {
   "cell_type": "markdown",
   "id": "biblical-ethnic",
   "metadata": {},
   "source": [
    "### Run the next two cells one after the other to iterate through the images"
   ]
  },
  {
   "cell_type": "code",
   "execution_count": null,
   "id": "civil-heaven",
   "metadata": {},
   "outputs": [],
   "source": [
    "#path iterator\n",
    "img_pth, msk_pth, ctd_pth = paths[it]\n",
    "save_pth = msk_pth.replace('_seg-vert_msk.nii.gz', '_fx-{}_res.json'.format(rater))\n",
    "if save_path:\n",
    "    save_pth = str(Path(save_path).joinpath(Path(save_pth).name))\n",
    "img, ctd, drr, sag, cor, zms, size = process_data_snp(str(img_pth), msk_pth, ctd_pth)\n",
    "it +=1\n",
    "print('## Processing file {} out of {} : '.format(it,len(paths)), img_pth)"
   ]
  },
  {
   "cell_type": "code",
   "execution_count": null,
   "id": "happy-feeling",
   "metadata": {},
   "outputs": [],
   "source": [
    "viewer(img, sag, cor, zms, drr, ctd, save_pth, size, init).create_fig()"
   ]
  },
  {
   "cell_type": "markdown",
   "id": "fantastic-private",
   "metadata": {},
   "source": [
    "### save all json file to csv files"
   ]
  },
  {
   "cell_type": "code",
   "execution_count": null,
   "id": "parliamentary-vietnam",
   "metadata": {},
   "outputs": [],
   "source": [
    "# Two csv files (fx and ivd) with all the grades will be saved in the dataset directory\n",
    "if save_path:\n",
    "    dataset_pth = save_path\n",
    "save_csv(dataset_pth,rater)\n"
   ]
  },
  {
   "cell_type": "code",
   "execution_count": null,
   "id": "provincial-stuff",
   "metadata": {},
   "outputs": [],
   "source": []
  }
 ],
 "metadata": {
  "kernelspec": {
   "display_name": "Python 3",
   "language": "python",
   "name": "python3"
  },
  "language_info": {
   "codemirror_mode": {
    "name": "ipython",
    "version": 3
   },
   "file_extension": ".py",
   "mimetype": "text/x-python",
   "name": "python",
   "nbconvert_exporter": "python",
   "pygments_lexer": "ipython3",
   "version": "3.8.5"
  }
 },
 "nbformat": 4,
 "nbformat_minor": 5
}

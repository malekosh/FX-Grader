{
 "cells": [
  {
   "cell_type": "code",
   "execution_count": null,
   "id": "upset-april",
   "metadata": {
    "tags": []
   },
   "outputs": [],
   "source": [
    "from pathlib import Path\n",
    "import matplotlib as mpl\n",
    "from viewer import *\n",
    "from utils import *\n",
    "mpl.rcParams['savefig.pad_inches'] = 0"
   ]
  },
  {
   "cell_type": "markdown",
   "id": "exceptional-smile",
   "metadata": {},
   "source": [
    "### Settings and Variables"
   ]
  },
  {
   "cell_type": "code",
   "execution_count": null,
   "id": "instrumental-supplement",
   "metadata": {},
   "outputs": [],
   "source": [
    "it = 0\n",
    "#rater's initials (for saving json files)\n",
    "rater = 1\n",
    "\n",
    "#BIDS structured dataset path\n",
    "dataset_pth = '/media/DATA/Malek/mnts/NAS/t15/AG Kirschke/Spine_data/Data_processed/ASL_ISO/dataset-ctfu-latest/'\n",
    "# dataset_pth = './sample_dataset/'#Path.cwd().joinpath('sample_dataset')\n",
    "# dataset_pth = Path('/Path/to/NAS/Spine_data/CT_verse_final_published/v19_BIDS_structure_subreg/dataset-verse19training')\n",
    "\n",
    "\n",
    "\n",
    "#Set to True avoid loading already rated cases\n",
    "exclude_rated=True\n",
    "\n",
    "\n",
    "labels = pd.read_csv('dataset_ctfu_scans2.tsv', sep='\\t')\n",
    "rater_cases = get_rater_cases_from_csv(labels, rater, dataset_pth, exclude_rated=exclude_rated)\n",
    "database_path = initialize_database(rater)\n",
    "\n"
   ]
  },
  {
   "cell_type": "markdown",
   "id": "alert-analyst",
   "metadata": {},
   "source": [
    "### Run the next cell to load the scans and rerun it to iterate through the dataset"
   ]
  },
  {
   "cell_type": "code",
   "execution_count": null,
   "id": "computational-antenna",
   "metadata": {},
   "outputs": [],
   "source": [
    "#path iterator\n",
    "if it >= len(rater_cases):\n",
    "    it = 0\n",
    "rater_dict = rater_cases[it]\n",
    "\n",
    "it +=1  #set this to 'it -=1' to scroll backwards through the scans, comment this line to reload the current scan\n",
    "print('## Processing file {} out of {} : '.format(it,len(rater_cases)), os.path.dirname(os.path.dirname(rater_dict['b_img_pth'])))\n",
    "\n",
    "exclude_cervical_textboxes = True\n",
    "display_coronal = True\n",
    "# viewer(param_list, exclude_cervical_textboxes, display_coronal).create_fig()\n",
    "viewer(rater_dict,database_path, labels, exclude_cervical_textboxes, display_coronal).create_fig()"
   ]
  }
 ],
 "metadata": {
  "kernelspec": {
   "display_name": "Python 3",
   "language": "python",
   "name": "python3"
  },
  "language_info": {
   "codemirror_mode": {
    "name": "ipython",
    "version": 3
   },
   "file_extension": ".py",
   "mimetype": "text/x-python",
   "name": "python",
   "nbconvert_exporter": "python",
   "pygments_lexer": "ipython3",
   "version": "3.8.5"
  }
 },
 "nbformat": 4,
 "nbformat_minor": 5
}

{
 "cells": [
  {
   "cell_type": "code",
   "execution_count": null,
   "id": "going-lender",
   "metadata": {
    "tags": []
   },
   "outputs": [],
   "source": [
    "from pathlib import Path\n",
    "import matplotlib as mpl\n",
    "from viewer import *\n",
    "from utils import *\n",
    "mpl.rcParams['savefig.pad_inches'] = 0\n",
    "#iterator\n"
   ]
  },
  {
   "cell_type": "markdown",
   "id": "promotional-feeding",
   "metadata": {},
   "source": [
    "### Settings and Variables"
   ]
  },
  {
   "cell_type": "code",
   "execution_count": null,
   "id": "technical-aruba",
   "metadata": {},
   "outputs": [],
   "source": [
    "it = 0\n",
    "#rater's initials (for saving json files)\n",
    "rater = 'MH'\n",
    "#File excluded if already graded\n",
    "ex = True\n",
    "#BIDS structured dataset path\n",
    "# dataset_pth = Path.cwd().joinpath('sample_dataset')\n",
    "dataset_pth = '/media/DATA/Malek/develop/projects/CT_FU_registration/data/'\n",
    "#if set to true tries to load scores from the current rater (if they exist) else initial values are set to 0\n",
    "init = True\n",
    "\n",
    "paths = get_paths(dataset_pth,ex, rater)\n"
   ]
  },
  {
   "cell_type": "markdown",
   "id": "detected-thumb",
   "metadata": {},
   "source": [
    "### Run the next two cells one after the other to iterate through the images"
   ]
  },
  {
   "cell_type": "code",
   "execution_count": null,
   "id": "realistic-biology",
   "metadata": {},
   "outputs": [],
   "source": [
    "#path iterator\n",
    "img_pth, msk_pth, ctd_pth = paths[it]\n",
    "save_pth = msk_pth.replace('_seg-vert_msk.nii.gz', '_fx-{}_res.json'.format(rater))\n",
    "img, ctd, drr, sag, cor, zms, size = process_data_snp(str(img_pth), msk_pth, ctd_pth)\n",
    "it +=1\n",
    "print('## Processing file {} out of {} : '.format(it,len(paths)), img_pth)"
   ]
  },
  {
   "cell_type": "code",
   "execution_count": null,
   "id": "proof-privacy",
   "metadata": {},
   "outputs": [],
   "source": [
    "viewer(img, sag, cor, zms, drr, ctd, save_pth, size, init).create_fig()"
   ]
  },
  {
   "cell_type": "markdown",
   "id": "beneficial-arbor",
   "metadata": {},
   "source": [
    "### save all json file to csv files"
   ]
  },
  {
   "cell_type": "code",
   "execution_count": null,
   "id": "religious-neighbor",
   "metadata": {},
   "outputs": [],
   "source": [
    "# Two csv files (fx and ivd) with all the grades will be saved in the dataset directory\n",
    "save_csv(dataset_pth,rater)\n"
   ]
  }
 ],
 "metadata": {
  "kernelspec": {
   "display_name": "Python 3",
   "language": "python",
   "name": "python3"
  },
  "language_info": {
   "codemirror_mode": {
    "name": "ipython",
    "version": 3
   },
   "file_extension": ".py",
   "mimetype": "text/x-python",
   "name": "python",
   "nbconvert_exporter": "python",
   "pygments_lexer": "ipython3",
   "version": "3.8.5"
  }
 },
 "nbformat": 4,
 "nbformat_minor": 5
}

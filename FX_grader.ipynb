{
 "cells": [
  {
   "cell_type": "code",
   "execution_count": null,
   "id": "incorrect-technique",
   "metadata": {
    "tags": []
   },
   "outputs": [],
   "source": [
    "from pathlib import Path\n",
    "import matplotlib as mpl\n",
    "from viewer import *\n",
    "from utils import *\n",
    "mpl.rcParams['savefig.pad_inches'] = 0"
   ]
  },
  {
   "cell_type": "markdown",
   "id": "alpha-merit",
   "metadata": {},
   "source": [
    "### Settings and Variables"
   ]
  },
  {
   "cell_type": "code",
   "execution_count": null,
   "id": "timely-hypothetical",
   "metadata": {},
   "outputs": [],
   "source": [
    "#iterator - change with caution only if necessary\n",
    "it = 0 \n",
    "\n",
    "#rater's ID(for tracking databases) \n",
    "#SR->1, ML->2, DS->3, NS->4, JK?->5\n",
    "rater = 5\n",
    "\n",
    "#set true to load all cases in a directory\n",
    "load_all = False\n",
    "\n",
    "#BIDS structured dataset path\n",
    "dataset_pth = Path('/media/DATA/Malek/datasets/dataset-readingexample1/')\n",
    "# dataset_pth = Path.cwd().joinpath('sample_dataset')\n",
    "\n",
    "#Set to True avoid loading already rated cases\n",
    "exclude_rated=False\n",
    "\n",
    "\n",
    "labels = pd.read_csv('dataset_ctfu_labels.tsv', sep='\\t')\n",
    "\n",
    "database_path = initialize_database(rater)\n",
    "rater_cases = get_rater_cases_from_csv(labels, dataset_pth, rater, load_all, exclude_rated)\n"
   ]
  },
  {
   "cell_type": "markdown",
   "id": "statistical-rugby",
   "metadata": {},
   "source": [
    "                    RATING SCHEMA\n",
    "                    \n",
    "0 - normaler WK, keine Höhenminderung, keine Metastase\n",
    "\n",
    "1 - Genant Grade 1 mit Endplatten FX\n",
    "\n",
    "2 - Genant G2\n",
    "\n",
    "3 - Genant G3\n",
    "\n",
    "4 - (Erworbene) Schmoerl'sche Herniation\n",
    "\n",
    "5 - maligne Fraktur\n",
    "\n",
    "6 - Fremdmaterial\n",
    "\n",
    "7 - nicht-osteoporotische, nicht maligne Deformität\n",
    "\n",
    "8 - maligne ohne Fraktur\n",
    "\n",
    "9 - Fraktur unklarer Dignität\n",
    "\n",
    "\n"
   ]
  },
  {
   "cell_type": "markdown",
   "id": "ready-hungary",
   "metadata": {},
   "source": [
    "### Run the next cell to load the scans and rerun it to iterate through the dataset"
   ]
  },
  {
   "cell_type": "code",
   "execution_count": null,
   "id": "dental-mason",
   "metadata": {},
   "outputs": [],
   "source": [
    "#path iterator\n",
    "if it >= len(rater_cases):\n",
    "    it = 0\n",
    "rater_dict = rater_cases[it]\n",
    "\n",
    "it +=1  #set this to 'it -=1' to scroll backwards through the scans, comment this line to reload the current scan\n",
    "print('## Processing file {} out of {} : '.format(it,len(rater_cases)), os.path.dirname(os.path.dirname(rater_dict['b_img_pth'])))\n",
    "\n",
    "exclude_cervical_textboxes = False\n",
    "display_coronal = True\n",
    "# viewer(param_list, exclude_cervical_textboxes, display_coronal).create_fig()\n",
    "viewer(rater_dict,database_path, labels, exclude_cervical_textboxes, display_coronal).create_fig()"
   ]
  },
  {
   "cell_type": "code",
   "execution_count": null,
   "id": "sought-award",
   "metadata": {},
   "outputs": [],
   "source": []
  }
 ],
 "metadata": {
  "kernelspec": {
   "display_name": "Python 3",
   "language": "python",
   "name": "python3"
  },
  "language_info": {
   "codemirror_mode": {
    "name": "ipython",
    "version": 3
   },
   "file_extension": ".py",
   "mimetype": "text/x-python",
   "name": "python",
   "nbconvert_exporter": "python",
   "pygments_lexer": "ipython3",
   "version": "3.8.5"
  }
 },
 "nbformat": 4,
 "nbformat_minor": 5
}

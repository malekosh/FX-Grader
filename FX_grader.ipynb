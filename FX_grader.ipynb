{
 "cells": [
  {
   "cell_type": "code",
   "execution_count": 2,
   "id": "challenging-helen",
   "metadata": {
    "tags": []
   },
   "outputs": [],
   "source": [
    "from pathlib import Path\n",
    "import matplotlib as mpl\n",
    "from viewer import *\n",
    "from utils import *\n",
    "mpl.rcParams['savefig.pad_inches'] = 0"
   ]
  },
  {
   "cell_type": "markdown",
   "id": "focal-dragon",
   "metadata": {},
   "source": [
    "### Settings and Variables"
   ]
  },
  {
   "cell_type": "code",
   "execution_count": 3,
   "id": "liked-resident",
   "metadata": {},
   "outputs": [],
   "source": [
    "it = 0\n",
    "#rater's initials (for saving json files)\n",
    "rater = 'MH'\n",
    "\n",
    "#File excluded if already graded\n",
    "ex = False\n",
    "\n",
    "#BIDS structured dataset path\n",
    "dataset_pth = './sample_dataset/'#Path.cwd().joinpath('sample_dataset')\n",
    "# dataset_pth = Path('/Path/to/NAS/Spine_data/CT_verse_final_published/v19_BIDS_structure_subreg/dataset-verse19training')\n",
    "\n",
    "\n",
    "#by default the GT from the labels.csv file will be loaded. Set to False to instead load your previous grades saved in the database. \n",
    "load_rater = True #''\n",
    "\n",
    "\n",
    "#load the data in chunks of 20s. E.g. to load scans 0-20, set chunks=0; to load scans 20-40 set chunks=1. \n",
    "#Set to None to load everything\n",
    "chunks = 0\n",
    "\n",
    "paths = get_paths_followup(dataset_pth,ex, rater, chunks=chunks)\n",
    "\n",
    "labels = pd.read_csv('labels.csv')\n",
    "\n",
    "database_path = initialize_database(rater)"
   ]
  },
  {
   "cell_type": "markdown",
   "id": "collectible-hungarian",
   "metadata": {},
   "source": [
    "### Run the next two cells one after the other to iterate through the images"
   ]
  },
  {
   "cell_type": "code",
   "execution_count": 4,
   "id": "descending-sheriff",
   "metadata": {},
   "outputs": [
    {
     "name": "stdout",
     "output_type": "stream",
     "text": [
      "## Processing file 1 out of 4 :  ./sample_dataset/rawdata/sub-ctfu00001/ses-20080508/sub-ctfu00001_ses-20080508_ce-no_ct.nii.gz\n"
     ]
    }
   ],
   "source": [
    "#path iterator\n",
    "if it >= len(paths):\n",
    "    it = 0\n",
    "img_pth,b_msk_path,b_sr_path,b_ctd_path,fimg_pth,f_msk_path,f_sr_path,f_ctd_path,res_img_pth = paths[it]\n",
    "img_iso, bsag_drr, fsag_drr, ctd_iso, fimg_iso, bsag_img_,fsag_img_, fctd_iso, bcor_img_, fcor_img_, zms, fzms, size, fsize = process_data_snp_sub(img_pth, b_msk_path, b_sr_path, b_ctd_path,fimg_pth, f_msk_path, f_ctd_path, res_img_pth, labels, 120)\n",
    "param_list = [img_pth, fimg_pth,img_iso, fimg_iso, bsag_img_, fsag_img_, zms, fzms, bsag_drr, fsag_drr, ctd_iso, fctd_iso,bcor_img_, fcor_img_, database_path, size, fsize, True, load_rater, img_pth, fimg_pth]\n",
    "it +=1\n",
    "print('## Processing file {} out of {} : '.format(it,len(paths)), img_pth)\n",
    "\n"
   ]
  },
  {
   "cell_type": "code",
   "execution_count": 5,
   "id": "progressive-adelaide",
   "metadata": {},
   "outputs": [
    {
     "data": {
      "application/vnd.jupyter.widget-view+json": {
       "model_id": "3e93759ae8404271b2d116cb7a7a0927",
       "version_major": 2,
       "version_minor": 0
      },
      "text/plain": [
       "GridBox(children=(Button(description='sub-ctfu00001_ses-20080508_ce-no - sub-ctfu00001_ses-20140908_split-0_ce…"
      ]
     },
     "metadata": {},
     "output_type": "display_data"
    }
   ],
   "source": [
    "exclude_cervical_textboxes = True\n",
    "display_coronal = True\n",
    "viewer(param_list, exclude_cervical_textboxes, display_coronal).create_fig()"
   ]
  },
  {
   "cell_type": "code",
   "execution_count": null,
   "id": "lesser-blend",
   "metadata": {},
   "outputs": [],
   "source": []
  }
 ],
 "metadata": {
  "kernelspec": {
   "display_name": "Python 3",
   "language": "python",
   "name": "python3"
  },
  "language_info": {
   "codemirror_mode": {
    "name": "ipython",
    "version": 3
   },
   "file_extension": ".py",
   "mimetype": "text/x-python",
   "name": "python",
   "nbconvert_exporter": "python",
   "pygments_lexer": "ipython3",
   "version": "3.8.5"
  }
 },
 "nbformat": 4,
 "nbformat_minor": 5
}
